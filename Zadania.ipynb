{
  "nbformat": 4,
  "nbformat_minor": 0,
  "metadata": {
    "colab": {
      "provenance": [],
      "authorship_tag": "ABX9TyOWVKJAo9L8Exex6iBvRQdF",
      "include_colab_link": true
    },
    "kernelspec": {
      "name": "python3",
      "display_name": "Python 3"
    },
    "language_info": {
      "name": "python"
    }
  },
  "cells": [
    {
      "cell_type": "markdown",
      "metadata": {
        "id": "view-in-github",
        "colab_type": "text"
      },
      "source": [
        "<a href=\"https://colab.research.google.com/github/HeYLoW111/Intro-collab/blob/main/Zadania.ipynb\" target=\"_parent\"><img src=\"https://colab.research.google.com/assets/colab-badge.svg\" alt=\"Open In Colab\"/></a>"
      ]
    },
    {
      "cell_type": "code",
      "execution_count": null,
      "metadata": {
        "colab": {
          "base_uri": "https://localhost:8080/"
        },
        "id": "W6iVz0LCmK-r",
        "outputId": "6178a5c6-7a04-438e-d67e-cef739ee2574"
      },
      "outputs": [
        {
          "output_type": "stream",
          "name": "stdout",
          "text": [
            "[[0. 0. 0.]\n",
            " [0. 0. 0.]\n",
            " [0. 0. 0.]]\n",
            "[[1. 1.]\n",
            " [1. 1.]]\n"
          ]
        },
        {
          "output_type": "execute_result",
          "data": {
            "text/plain": [
              "4.0"
            ]
          },
          "metadata": {},
          "execution_count": 16
        }
      ],
      "source": [
        "\n",
        "import numpy as np\n",
        "a = np.array([1,2,3])\n",
        "b = np.zeros([3,3])\n",
        "print(b)\n",
        "c = np.ones([2,2])\n",
        "print(c)\n",
        "d = np.full([4,4], 8)\n",
        "d\n",
        "e = np.arange(0, 10, 2) #to samo jest domyślnie jako range()\n",
        "e\n",
        "f = np.linspace(0, 10, 20)\n",
        "f\n",
        "g = np.array([[1, 2, 3, 4], [2, 3, 4, 5], [3, 4, 5, 6], [4, 5, 6, 7]])\n",
        "g[:3,1:3]\n",
        "\n",
        "s = np.sum(d)\n",
        "s\n",
        "m = np.mean(g)\n",
        "m\n"
      ]
    },
    {
      "cell_type": "code",
      "source": [
        "import numpy as np\n",
        "a = np.arange( start = 5, stop = 1000, step = 17 )\n",
        "print(a)\n",
        "\n",
        "np.linspace(1,20,50)\n",
        "\n",
        "\n",
        "A = np.array([1, 4, 5, 2])\n",
        "B = np.array([-2, 5, 6, 5])\n",
        "print(A + B) # domyślnie jest element by element\n",
        "\n"
      ],
      "metadata": {
        "colab": {
          "base_uri": "https://localhost:8080/",
          "height": 297
        },
        "id": "8Qt3Yhc-4iss",
        "outputId": "0a5f9f76-f9de-44c9-a4cf-278a8c47d1ce"
      },
      "execution_count": 9,
      "outputs": [
        {
          "output_type": "stream",
          "name": "stdout",
          "text": [
            "[  5  22  39  56  73  90 107 124 141 158 175 192 209 226 243 260 277 294\n",
            " 311 328 345 362 379 396 413 430 447 464 481 498 515 532 549 566 583 600\n",
            " 617 634 651 668 685 702 719 736 753 770 787 804 821 838 855 872 889 906\n",
            " 923 940 957 974 991]\n",
            "[-1  9 11  7]\n"
          ]
        },
        {
          "output_type": "error",
          "ename": "TypeError",
          "evalue": "Field elements must be 2- or 3-tuples, got '4'",
          "traceback": [
            "\u001b[0;31m---------------------------------------------------------------------------\u001b[0m",
            "\u001b[0;31mTypeError\u001b[0m                                 Traceback (most recent call last)",
            "\u001b[0;32m<ipython-input-9-cfa2352eb4e6>\u001b[0m in \u001b[0;36m<cell line: 0>\u001b[0;34m()\u001b[0m\n\u001b[1;32m     10\u001b[0m \u001b[0mprint\u001b[0m\u001b[0;34m(\u001b[0m\u001b[0mA\u001b[0m \u001b[0;34m+\u001b[0m \u001b[0mB\u001b[0m\u001b[0;34m)\u001b[0m \u001b[0;31m# domyślnie jest element by element\u001b[0m\u001b[0;34m\u001b[0m\u001b[0;34m\u001b[0m\u001b[0m\n\u001b[1;32m     11\u001b[0m \u001b[0;34m\u001b[0m\u001b[0m\n\u001b[0;32m---> 12\u001b[0;31m \u001b[0mC\u001b[0m \u001b[0;34m=\u001b[0m \u001b[0mnp\u001b[0m\u001b[0;34m.\u001b[0m\u001b[0marray\u001b[0m\u001b[0;34m(\u001b[0m\u001b[0;34m[\u001b[0m\u001b[0;36m2\u001b[0m\u001b[0;34m,\u001b[0m \u001b[0;36m5\u001b[0m\u001b[0;34m]\u001b[0m\u001b[0;34m,\u001b[0m\u001b[0;34m[\u001b[0m\u001b[0;36m4\u001b[0m\u001b[0;34m,\u001b[0m \u001b[0;36m6\u001b[0m\u001b[0;34m]\u001b[0m\u001b[0;34m)\u001b[0m\u001b[0;34m\u001b[0m\u001b[0;34m\u001b[0m\u001b[0m\n\u001b[0m\u001b[1;32m     13\u001b[0m \u001b[0mD\u001b[0m \u001b[0;34m=\u001b[0m \u001b[0mnp\u001b[0m\u001b[0;34m.\u001b[0m\u001b[0marray\u001b[0m\u001b[0;34m(\u001b[0m\u001b[0;34m[\u001b[0m\u001b[0;36m2\u001b[0m\u001b[0;34m,\u001b[0m \u001b[0;36m9\u001b[0m\u001b[0;34m]\u001b[0m\u001b[0;34m,\u001b[0m\u001b[0;34m[\u001b[0m\u001b[0;36m1\u001b[0m\u001b[0;34m,\u001b[0m \u001b[0;36m6\u001b[0m\u001b[0;34m]\u001b[0m\u001b[0;34m)\u001b[0m\u001b[0;34m\u001b[0m\u001b[0;34m\u001b[0m\u001b[0m\n\u001b[1;32m     14\u001b[0m \u001b[0mnp\u001b[0m\u001b[0;34m.\u001b[0m\u001b[0mdot\u001b[0m\u001b[0;34m(\u001b[0m\u001b[0mC\u001b[0m\u001b[0;34m,\u001b[0m \u001b[0mD\u001b[0m\u001b[0;34m)\u001b[0m \u001b[0;31m#mnożenie macierzy algebraiczne\u001b[0m\u001b[0;34m\u001b[0m\u001b[0;34m\u001b[0m\u001b[0m\n",
            "\u001b[0;31mTypeError\u001b[0m: Field elements must be 2- or 3-tuples, got '4'"
          ]
        }
      ]
    },
    {
      "cell_type": "code",
      "source": [
        "C = np.array([[2, 5],[4, 6]])\n",
        "D = np.array([[2, 9],[1, 6]])\n",
        "np.dot(C, D) #mnożenie macierzy algebraiczne\n",
        "print(C.dot(D))     #to jest to samo\n",
        "print(D.dot(C))\n",
        "print( C @ D)  #i to też"
      ],
      "metadata": {
        "colab": {
          "base_uri": "https://localhost:8080/"
        },
        "id": "nYfTlG-CCOe1",
        "outputId": "da669bcf-e5da-4bde-fc99-83e5d443677c"
      },
      "execution_count": 14,
      "outputs": [
        {
          "output_type": "stream",
          "name": "stdout",
          "text": [
            "[[ 9 48]\n",
            " [14 72]]\n",
            "[[40 64]\n",
            " [26 41]]\n",
            "[[ 9 48]\n",
            " [14 72]]\n"
          ]
        }
      ]
    },
    {
      "cell_type": "code",
      "source": [
        "np.random.seed(0)\n",
        "np.random.randn()\n",
        "np.random.randn(10)\n",
        "A = np.random.randn(10,4)\n",
        "np.random.rand() # to rozklad jednostajny\n",
        "np.random.randint(10) # zwraca int 0-10\n",
        "np.random.randint(low = 10, high = 20, size = 10)\n",
        "\n",
        "np.random.choice([4, 2, 1, 3, 5])\n",
        "np.random.choice([\"a\", \"V\", \"F\"])\n",
        "\n",
        "np.random.shuffle(A)\n",
        "A"
      ],
      "metadata": {
        "colab": {
          "base_uri": "https://localhost:8080/"
        },
        "id": "bod36_CNEzpJ",
        "outputId": "cc8695c8-8ed3-4496-adee-09b27722f8b9"
      },
      "execution_count": 29,
      "outputs": [
        {
          "output_type": "execute_result",
          "data": {
            "text/plain": [
              "array([[ 1.45427351,  0.76103773,  0.12167502,  0.44386323],\n",
              "       [ 0.37816252, -0.88778575, -1.98079647, -0.34791215],\n",
              "       [ 1.9507754 , -0.50965218, -0.4380743 , -1.25279536],\n",
              "       [-0.18718385,  1.53277921,  1.46935877,  0.15494743],\n",
              "       [ 0.15634897,  1.23029068,  1.20237985, -0.38732682],\n",
              "       [ 0.33367433,  1.49407907, -0.20515826,  0.3130677 ],\n",
              "       [ 0.77749036, -1.61389785, -0.21274028, -0.89546656],\n",
              "       [-0.74216502,  2.26975462, -1.45436567,  0.04575852],\n",
              "       [-0.30230275, -1.04855297, -1.42001794, -1.70627019],\n",
              "       [-0.85409574, -2.55298982,  0.6536186 ,  0.8644362 ]])"
            ]
          },
          "metadata": {},
          "execution_count": 29
        }
      ]
    },
    {
      "cell_type": "code",
      "source": [
        "np.exp(4)\n",
        "np.all([2, 3, 1])\n",
        "np.any([0, 0, 0])\n",
        "\n",
        "A = [4, 2, 1]\n",
        "A[np.argmax(A)]\n",
        "np.argmin([4, 2, 1]) #zwracają indeksy\n",
        "\n",
        "np.argsort(A)  #podaje posortowane indeksy\n",
        "\n",
        "\n",
        "T = np.arange(20).reshape(4, 5)\n",
        "#for row in T:\n",
        " #   print(row[2])\n",
        "\n",
        "#for item in T.flat:\n",
        "#    print(item)\n",
        "\n",
        "T.ravel()\n",
        "\n",
        "T.T\n",
        "\n",
        "\n",
        "T[T > 9]\n",
        "\n",
        "np.bitwise_and(T > 5, T < 10)\n",
        "np.bitwise_or(T < 5, T > 10)\n"
      ],
      "metadata": {
        "colab": {
          "base_uri": "https://localhost:8080/"
        },
        "id": "_fugDRSxUD9u",
        "outputId": "10a20d54-20ef-4f93-8b8b-af7fab6ebd65"
      },
      "execution_count": 51,
      "outputs": [
        {
          "output_type": "execute_result",
          "data": {
            "text/plain": [
              "array([[ True,  True,  True,  True,  True],\n",
              "       [False, False, False, False, False],\n",
              "       [False,  True,  True,  True,  True],\n",
              "       [ True,  True,  True,  True,  True]])"
            ]
          },
          "metadata": {},
          "execution_count": 51
        }
      ]
    }
  ]
}